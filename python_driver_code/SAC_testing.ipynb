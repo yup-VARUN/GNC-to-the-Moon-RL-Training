{
 "cells": [
  {
   "cell_type": "code",
   "execution_count": 2,
   "id": "856654a1",
   "metadata": {},
   "outputs": [
    {
     "name": "stdout",
     "output_type": "stream",
     "text": [
      "Using cpu device\n",
      "Wrapping the env with a `Monitor` wrapper\n",
      "Wrapping the env in a DummyVecEnv.\n",
      "SACPolicy(\n",
      "  (actor): Actor(\n",
      "    (features_extractor): FlattenExtractor(\n",
      "      (flatten): Flatten(start_dim=1, end_dim=-1)\n",
      "    )\n",
      "    (latent_pi): Sequential(\n",
      "      (0): Linear(in_features=3, out_features=256, bias=True)\n",
      "      (1): ReLU()\n",
      "      (2): Linear(in_features=256, out_features=256, bias=True)\n",
      "      (3): ReLU()\n",
      "    )\n",
      "    (mu): Linear(in_features=256, out_features=1, bias=True)\n",
      "    (log_std): Linear(in_features=256, out_features=1, bias=True)\n",
      "  )\n",
      "  (critic): ContinuousCritic(\n",
      "    (features_extractor): FlattenExtractor(\n",
      "      (flatten): Flatten(start_dim=1, end_dim=-1)\n",
      "    )\n",
      "    (qf0): Sequential(\n",
      "      (0): Linear(in_features=4, out_features=256, bias=True)\n",
      "      (1): ReLU()\n",
      "      (2): Linear(in_features=256, out_features=256, bias=True)\n",
      "      (3): ReLU()\n",
      "      (4): Linear(in_features=256, out_features=1, bias=True)\n",
      "    )\n",
      "    (qf1): Sequential(\n",
      "      (0): Linear(in_features=4, out_features=256, bias=True)\n",
      "      (1): ReLU()\n",
      "      (2): Linear(in_features=256, out_features=256, bias=True)\n",
      "      (3): ReLU()\n",
      "      (4): Linear(in_features=256, out_features=1, bias=True)\n",
      "    )\n",
      "  )\n",
      "  (critic_target): ContinuousCritic(\n",
      "    (features_extractor): FlattenExtractor(\n",
      "      (flatten): Flatten(start_dim=1, end_dim=-1)\n",
      "    )\n",
      "    (qf0): Sequential(\n",
      "      (0): Linear(in_features=4, out_features=256, bias=True)\n",
      "      (1): ReLU()\n",
      "      (2): Linear(in_features=256, out_features=256, bias=True)\n",
      "      (3): ReLU()\n",
      "      (4): Linear(in_features=256, out_features=1, bias=True)\n",
      "    )\n",
      "    (qf1): Sequential(\n",
      "      (0): Linear(in_features=4, out_features=256, bias=True)\n",
      "      (1): ReLU()\n",
      "      (2): Linear(in_features=256, out_features=256, bias=True)\n",
      "      (3): ReLU()\n",
      "      (4): Linear(in_features=256, out_features=1, bias=True)\n",
      "    )\n",
      "  )\n",
      ")\n"
     ]
    }
   ],
   "source": [
    "from stable_baselines3 import SAC\n",
    "import gymnasium as gym\n",
    "\n",
    "# Create environment and model\n",
    "env = gym.make(\"Pendulum-v1\")  # This has a continuous action space\n",
    "model = SAC(\"MlpPolicy\", env, verbose=1)\n",
    "\n",
    "policy_network = model.policy\n",
    "q_networks = model.critic  # This contains both Q networks\n",
    "\n",
    "# Access the first and second Q networks\n",
    "q0_net = model.critic.qf0\n",
    "q2_net = model.critic_target.qf0\n",
    "print(policy_network)\n",
    "# print(q0_net)"
   ]
  },
  {
   "cell_type": "code",
   "execution_count": 3,
   "id": "6619b086",
   "metadata": {},
   "outputs": [],
   "source": [
    "def dummy_process(shared_array):\n",
    "    critic_net = shared_array[0]\n",
    "    # env = gym.make(\"Pendulum-v1\")  # This has a continuous action space\n",
    "    print(\"Critic's addr in child process\", id(critic_net))\n",
    "    # target_agent.run_episode()"
   ]
  },
  {
   "cell_type": "code",
   "execution_count": null,
   "id": "254a6e57",
   "metadata": {},
   "outputs": [],
   "source": [
    "from SAC_agent_package.prime_model import prime_SAC_model\n",
    "from custom_utils import prepare_agent\n",
    "import torch.multiprocessing as tmp\n",
    "env = gym.make(\"Pendulum-v1\")  # This has a continuous action space\n",
    "tmp.set_start_method('spawn',force=True) \n",
    "\n",
    "# model = prime_SAC_model(\"MlpPolicy\", env, verbose=1)\n",
    "keyargs = {\n",
    "    'policy' : \"MlpPolicy\",\n",
    "    'env' : env,\n",
    "    'verbose': 1\n",
    "}\n",
    "\n",
    "target_agent = prepare_agent(prime_SAC_model, keyargs)\n",
    "# model: prime_SAC_model = target_agent()\n",
    "# model.share_model_across_memory()\n",
    "\n",
    "\n",
    "\n",
    "env = gym.make(\"Blackjack-v1\", sab=False)\n",
    "\n",
    "def dummy_process(target_agent):\n",
    "    # print(\"Critic's\",id(target_agent.critic))\n",
    "    model: prime_SAC_model = target_agent()\n",
    "    model.run_episode()\n",
    "    # print(\"Running child\")\n",
    "# print(BJA.BlackjackAgent.__init__)\n",
    "\n",
    "\n",
    "child_process = tmp.Process(target=dummy_process, kwargs={\"target_agent\": target_agent})\n",
    "\n",
    "child_process.start()\n",
    "\n",
    "child_process.join(10)\n",
    "# print(model.run_episode())"
   ]
  },
  {
   "cell_type": "code",
   "execution_count": null,
   "id": "12b6f3c1",
   "metadata": {},
   "outputs": [
    {
     "name": "stdout",
     "output_type": "stream",
     "text": [
      "Using cpu device\n",
      "Wrapping the env with a `Monitor` wrapper\n",
      "Wrapping the env in a DummyVecEnv.\n",
      "----------------------------------\n",
      "| rollout/           |           |\n",
      "|    ep_len_mean     | 200       |\n",
      "|    ep_rew_mean     | -1.55e+03 |\n",
      "| time/              |           |\n",
      "|    episodes        | 4         |\n",
      "|    fps             | 199       |\n",
      "|    time_elapsed    | 4         |\n",
      "|    total_timesteps | 800       |\n",
      "| train/             |           |\n",
      "|    actor_loss      | 25.4      |\n",
      "|    critic_loss     | 0.231     |\n",
      "|    ent_coef        | 0.813     |\n",
      "|    ent_coef_loss   | -0.324    |\n",
      "|    learning_rate   | 0.0003    |\n",
      "|    n_updates       | 699       |\n",
      "----------------------------------\n"
     ]
    },
    {
     "name": "stderr",
     "output_type": "stream",
     "text": [
      "/opt/anaconda3/envs/GNC_Project_Env/lib/python3.9/site-packages/stable_baselines3/common/evaluation.py:67: UserWarning: Evaluation environment is not wrapped with a ``Monitor`` wrapper. This may result in reporting modified episode lengths and rewards, if other wrappers happen to modify these. Consider wrapping environment first with ``Monitor`` wrapper.\n",
      "  warnings.warn(\n"
     ]
    },
    {
     "name": "stdout",
     "output_type": "stream",
     "text": [
      "Linear trained model: Mean reward: -1774.1499077811836, Std reward: 126.18797746137483\n",
      "Using cpu device\n",
      "Wrapping the env with a `Monitor` wrapper\n",
      "Wrapping the env in a DummyVecEnv.\n",
      "Mp trained model: Mean reward: -1291.1101829964668, Std reward: 193.75103048189231\n"
     ]
    }
   ],
   "source": [
    "from stable_baselines3 import SAC\n",
    "from stable_baselines3.common.evaluation import evaluate_policy\n",
    "import gymnasium as gym\n",
    "\n",
    "# Create environment and model\n",
    "env = gym.make(\"Pendulum-v1\")  # This has a continuous action space\n",
    "model = SAC(\"MlpPolicy\", env, verbose=1)\n",
    "model.learn(total_timesteps=1000)\n",
    "mean_reward , std_reward = evaluate_policy(model, env,n_eval_episodes=10)\n",
    "\n",
    "print(f\"Linear trained model: Mean reward: {mean_reward}, Std reward: {std_reward}\")\n",
    "\n",
    "mp_model = SAC(\"MlpPolicy\", env, verbose=1)\n",
    "mp_model.load(\"./output_models/test_model.zip\")\n",
    "mean_reward , std_reward = evaluate_policy(mp_model, env,n_eval_episodes=10)\n",
    "print(f\"Mp trained model: Mean reward: {mean_reward}, Std reward: {std_reward}\")"
   ]
  },
  {
   "cell_type": "code",
   "execution_count": null,
   "id": "4e9cbfb6",
   "metadata": {},
   "outputs": [
    {
     "name": "stdout",
     "output_type": "stream",
     "text": [
      "   epoch  total_compute_time  SAR_collected  time_waiting_on_update  \\\n",
      "0      0            0.351363           2000                0.143325   \n",
      "1      1            0.377132           2000                0.163760   \n",
      "2      2            0.366547           2000                0.162401   \n",
      "\n",
      "   total_memory_usage  \n",
      "0          296.820091  \n",
      "1          300.434154  \n",
      "2          163.743529  \n",
      "   total_execution_time  initial_mem_usage_MB  episodes_per_epoch  \\\n",
      "0             11.866058                 293.5                  10   \n",
      "\n",
      "   total_episodes  avg_compute_time_per_episode  avg_wait_time_per_episode  \n",
      "0              30                      0.036501                    0.01565  \n"
     ]
    }
   ],
   "source": [
    "from custom_utils import view_worker_metrics\n",
    "\n",
    "test_json = 'worker_logs/Process_20324_job/Worker_20352_log.json'\n",
    "\n",
    "epoch_df, summary_df = view_worker_metrics(test_json)\n",
    "\n",
    "print(epoch_df)\n",
    "print(summary_df)\n"
   ]
  },
  {
   "cell_type": "code",
   "execution_count": null,
   "id": "60d3f1c6",
   "metadata": {},
   "outputs": [
    {
     "name": "stdout",
     "output_type": "stream",
     "text": [
      "[   total_execution_time  initial_mem_usage_MB  episodes_per_epoch  \\\n",
      "0             11.866058                 293.5                  10   \n",
      "\n",
      "   total_episodes  avg_compute_time_per_episode  avg_wait_time_per_episode  \\\n",
      "0              30                      0.036501                    0.01565   \n",
      "\n",
      "             run_id  \n",
      "0  Worker_20352_log  ,    total_execution_time  initial_mem_usage_MB  episodes_per_epoch  \\\n",
      "0              6.838087            292.328125                  10   \n",
      "\n",
      "   total_episodes  avg_compute_time_per_episode  avg_wait_time_per_episode  \\\n",
      "0              30                      0.036617                   0.015644   \n",
      "\n",
      "             run_id  \n",
      "0  Worker_20356_log  ]\n"
     ]
    },
    {
     "data": {
      "text/html": [
       "<div>\n",
       "<style scoped>\n",
       "    .dataframe tbody tr th:only-of-type {\n",
       "        vertical-align: middle;\n",
       "    }\n",
       "\n",
       "    .dataframe tbody tr th {\n",
       "        vertical-align: top;\n",
       "    }\n",
       "\n",
       "    .dataframe thead th {\n",
       "        text-align: right;\n",
       "    }\n",
       "</style>\n",
       "<table border=\"1\" class=\"dataframe\">\n",
       "  <thead>\n",
       "    <tr style=\"text-align: right;\">\n",
       "      <th></th>\n",
       "      <th>epoch</th>\n",
       "      <th>total_compute_time</th>\n",
       "      <th>SAR_collected</th>\n",
       "      <th>time_waiting_on_update</th>\n",
       "      <th>total_memory_usage</th>\n",
       "      <th>run_id</th>\n",
       "    </tr>\n",
       "  </thead>\n",
       "  <tbody>\n",
       "    <tr>\n",
       "      <th>3</th>\n",
       "      <td>0</td>\n",
       "      <td>0.353181</td>\n",
       "      <td>2000</td>\n",
       "      <td>0.143401</td>\n",
       "      <td>295.685716</td>\n",
       "      <td>Worker_20356_log</td>\n",
       "    </tr>\n",
       "    <tr>\n",
       "      <th>4</th>\n",
       "      <td>1</td>\n",
       "      <td>0.372038</td>\n",
       "      <td>2000</td>\n",
       "      <td>0.163585</td>\n",
       "      <td>301.995091</td>\n",
       "      <td>Worker_20356_log</td>\n",
       "    </tr>\n",
       "    <tr>\n",
       "      <th>5</th>\n",
       "      <td>2</td>\n",
       "      <td>0.373288</td>\n",
       "      <td>2000</td>\n",
       "      <td>0.162332</td>\n",
       "      <td>280.149779</td>\n",
       "      <td>Worker_20356_log</td>\n",
       "    </tr>\n",
       "  </tbody>\n",
       "</table>\n",
       "</div>"
      ],
      "text/plain": [
       "   epoch  total_compute_time  SAR_collected  time_waiting_on_update  \\\n",
       "3      0            0.353181           2000                0.143401   \n",
       "4      1            0.372038           2000                0.163585   \n",
       "5      2            0.373288           2000                0.162332   \n",
       "\n",
       "   total_memory_usage            run_id  \n",
       "3          295.685716  Worker_20356_log  \n",
       "4          301.995091  Worker_20356_log  \n",
       "5          280.149779  Worker_20356_log  "
      ]
     },
     "execution_count": 5,
     "metadata": {},
     "output_type": "execute_result"
    }
   ],
   "source": [
    "from custom_utils import view_all_workers, summarize_across_workers, plot_worker_metric_over_epochs\n",
    "worker_dir = \"worker_logs/Process_20324_job\"\n",
    "\n",
    "epoches, summaries = view_all_workers(worker_dir)\n",
    "\n",
    "epoches[epoches[\"run_id\"] == \"Worker_20356_log\"]\n",
    "# print(epoches)\n",
    "# print(summaries)\n",
    "# summarize_across_workers(summaries)\n",
    "plot_worker_metric_over_epochs(epoches, \"Worker_20356_log\", \"total_compute_time_per_epoch\")"
   ]
  },
  {
   "cell_type": "code",
   "execution_count": null,
   "id": "c747fc58",
   "metadata": {},
   "outputs": [],
   "source": [
    "\n",
    "\n"
   ]
  }
 ],
 "metadata": {
  "kernelspec": {
   "display_name": "GNC_Project_Env",
   "language": "python",
   "name": "python3"
  },
  "language_info": {
   "codemirror_mode": {
    "name": "ipython",
    "version": 3
   },
   "file_extension": ".py",
   "mimetype": "text/x-python",
   "name": "python",
   "nbconvert_exporter": "python",
   "pygments_lexer": "ipython3",
   "version": "3.9.16"
  }
 },
 "nbformat": 4,
 "nbformat_minor": 5
}
